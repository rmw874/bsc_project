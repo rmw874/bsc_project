{
 "cells": [
  {
   "cell_type": "code",
   "execution_count": 1,
   "metadata": {},
   "outputs": [],
   "source": [
    "import os\n",
    "from PIL import Image\n",
    "import cv2\n",
    "import numpy as np\n",
    "import matplotlib.pyplot as plt\n",
    "from skimage.io import imread\n",
    "import shutil"
   ]
  },
  {
   "cell_type": "code",
   "execution_count": 2,
   "metadata": {},
   "outputs": [],
   "source": [
    "img_faulty_t = imread(\"../data/processed/Mathiesen-single-pages/top/8013620831-0035.jpg-t.jpg\")\n",
    "img_allowed_t = imread(\"../data/processed/Mathiesen-single-pages/top/8013620831-0816.jpg-t.jpg\")"
   ]
  },
  {
   "cell_type": "code",
   "execution_count": 3,
   "metadata": {},
   "outputs": [],
   "source": [
    "img_faulty_b = imread(\"../data/processed/Mathiesen-single-pages/bottom/8013620831-0036.jpg-b.jpg\")\n",
    "img_allowed_b = imread(\"../data/processed/Mathiesen-single-pages/bottom/8013620831-0650.jpg-b.jpg\")"
   ]
  },
  {
   "cell_type": "code",
   "execution_count": null,
   "metadata": {},
   "outputs": [],
   "source": [
    "plt.imshow(img_faulty_t, cmap='gray')\n",
    "plt.show()\n",
    "plt.imshow(img_allowed_t, cmap='gray')\n",
    "plt.show()"
   ]
  },
  {
   "cell_type": "code",
   "execution_count": null,
   "metadata": {},
   "outputs": [],
   "source": [
    "plt.imshow(img_faulty_b, cmap='gray')\n",
    "plt.show()\n",
    "plt.imshow(img_allowed_b, cmap='gray')\n",
    "plt.show()"
   ]
  },
  {
   "cell_type": "code",
   "execution_count": 6,
   "metadata": {},
   "outputs": [],
   "source": [
    "def preprocess(img, min=25):\n",
    "    _, img = cv2.threshold(img, min, 255, cv2.THRESH_BINARY)\n",
    "    img = img / 255.0\n",
    "    return img\n",
    "    \n",
    "img_faulty_preprocessed_t = preprocess(img_faulty_t)\n",
    "img_allowed_preprocessed_t = preprocess(img_allowed_t)\n",
    "\n",
    "img_faulty_preprocessed_b = preprocess(img_faulty_b)\n",
    "img_allowed_preprocessed_b = preprocess(img_allowed_b)"
   ]
  },
  {
   "cell_type": "code",
   "execution_count": null,
   "metadata": {},
   "outputs": [],
   "source": [
    "plt.imshow(img_faulty_preprocessed_t, cmap='gray')\n",
    "plt.show()\n",
    "\n",
    "plt.imshow(img_allowed_preprocessed_t, cmap='gray')\n",
    "plt.show()"
   ]
  },
  {
   "cell_type": "code",
   "execution_count": null,
   "metadata": {},
   "outputs": [],
   "source": [
    "plt.imshow(img_faulty_preprocessed_b, cmap='gray')\n",
    "plt.show()\n",
    "\n",
    "plt.imshow(img_allowed_preprocessed_b, cmap='gray')\n",
    "plt.show()"
   ]
  },
  {
   "cell_type": "code",
   "execution_count": 9,
   "metadata": {},
   "outputs": [],
   "source": [
    "def select_images_t(img):\n",
    "    one_row = img[20, :, 0]\n",
    "    return (0 not in one_row)\n"
   ]
  },
  {
   "cell_type": "code",
   "execution_count": 10,
   "metadata": {},
   "outputs": [],
   "source": [
    "def select_images_b(img, ):\n",
    "    height = img.shape[0]\n",
    "    one_row = img[height-20, :, 0]\n",
    "    return (0 not in one_row)"
   ]
  },
  {
   "cell_type": "code",
   "execution_count": null,
   "metadata": {},
   "outputs": [],
   "source": [
    "print(\"top images:\")\n",
    "print(\"allowed:\", select_images_t(img_allowed_preprocessed_t))\n",
    "print(\"faulty:\", select_images_t(img_faulty_preprocessed_t))\n",
    "\n",
    "print(\"bottom images:\")\n",
    "print(\"allowed:\", select_images_b(img_allowed_preprocessed_b))\n",
    "print(\"faulty:\", select_images_b(img_faulty_preprocessed_b))"
   ]
  },
  {
   "cell_type": "code",
   "execution_count": 12,
   "metadata": {},
   "outputs": [],
   "source": [
    "# main pipeline for sorting\n",
    "def sort_imgs(input_folder, train, test):\n",
    "    os.makedirs(train, exist_ok=True)\n",
    "    os.makedirs(test, exist_ok=True)\n",
    "\n",
    "    for filename in os.listdir(input_folder):\n",
    "        file_path = os.path.join(input_folder, filename)\n",
    "        img = imread(file_path)\n",
    "        if \"-t\" in filename:\n",
    "            if select_images_t(img):  # then training\n",
    "                shutil.copy(file_path, train)\n",
    "            else: \n",
    "                shutil.copy(file_path, test)\n",
    "        elif \"-b\" in filename:\n",
    "            if select_images_b(img):\n",
    "                shutil.copy(file_path, train)\n",
    "            else: \n",
    "                shutil.copy(file_path, test)\n",
    "\n",
    "\n"
   ]
  },
  {
   "cell_type": "code",
   "execution_count": 13,
   "metadata": {},
   "outputs": [],
   "source": [
    "#inputs\n",
    "top = \"/Users/oscar/Documents/mgr-train/data/processed/Mathiesen-single-pages/top\"\n",
    "bottom = \"../data/processed/Mathiesen-single-pages/bottom\"\n",
    "\n",
    "#outputs\n",
    "training_t = \"../data/processed/Mathiesen-single-pages/training/top\"\n",
    "testing_t = \"../data/processed/Mathiesen-single-pages/testing/top\" \n",
    "training_b = \"../data/processed/Mathiesen-single-pages/training/bottom\"\n",
    "testing_b = \"../data/processed/Mathiesen-single-pages/testing/bottom\" \n",
    "\n",
    "sort_imgs(top, training_t, testing_t)\n",
    "sort_imgs(bottom, training_b, testing_b)"
   ]
  },
  {
   "cell_type": "code",
   "execution_count": null,
   "metadata": {},
   "outputs": [],
   "source": [
    "select_images(img_faulty_preprocessed)\n",
    "select_images(img_allowed_preprocessed)"
   ]
  }
 ],
 "metadata": {
  "kernelspec": {
   "display_name": "mgr",
   "language": "python",
   "name": "python3"
  },
  "language_info": {
   "codemirror_mode": {
    "name": "ipython",
    "version": 3
   },
   "file_extension": ".py",
   "mimetype": "text/x-python",
   "name": "python",
   "nbconvert_exporter": "python",
   "pygments_lexer": "ipython3",
   "version": "3.12.6"
  }
 },
 "nbformat": 4,
 "nbformat_minor": 2
}
