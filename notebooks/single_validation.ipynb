{
 "cells": [
  {
   "cell_type": "code",
   "execution_count": null,
   "metadata": {},
   "outputs": [],
   "source": [
    "from model import UNet\n",
    "import torch\n",
    "import cv2\n",
    "import numpy as np\n",
    "from torchvision import transforms\n",
    "import matplotlib.pyplot as plt"
   ]
  },
  {
   "cell_type": "code",
   "execution_count": null,
   "metadata": {},
   "outputs": [],
   "source": [
    "MODEL_PATH = 'latest_model_focal_ugly.pth'\n",
    "N_CLASSES = 6\n",
    "TARGET_SIZE = (3200//2, 2496//2)"
   ]
  },
  {
   "cell_type": "code",
   "execution_count": null,
   "metadata": {},
   "outputs": [],
   "source": [
    "def test_model():\n",
    "    # Setup device\n",
    "    device = torch.device('cuda' if torch.cuda.is_available() else 'cpu')\n",
    "    \n",
    "    # Load model\n",
    "    model = UNet(N_CLASSES).to(device)\n",
    "    model.load_state_dict(torch.load(MODEL_PATH))\n",
    "    model.eval()\n",
    "    \n",
    "    # Load and preprocess image\n",
    "    img = cv2.imread(IMG_PATH)\n",
    "    img = cv2.cvtColor(img, cv2.COLOR_BGR2RGB)\n",
    "    img = cv2.resize(img, TARGET_SIZE)\n",
    "    \n",
    "    # Convert to tensor and normalize\n",
    "    transform = transforms.Compose([\n",
    "        transforms.ToTensor(),\n",
    "        transforms.Normalize(mean=[0.485, 0.456, 0.406], std=[0.229, 0.224, 0.225])\n",
    "    ])\n",
    "    img_tensor = transform(img).unsqueeze(0).to(device)\n",
    "    \n",
    "    # Get prediction\n",
    "    with torch.no_grad():\n",
    "        output = model(img_tensor)\n",
    "        pred = torch.argmax(output[0], dim=0).cpu().numpy()\n",
    "    \n",
    "    # Visualize results\n",
    "    class_colors = plt.cm.tab10(np.linspace(0, 1, N_CLASSES))\n",
    "    colored_pred = class_colors[pred]\n",
    "    \n",
    "    plt.figure(figsize=(15, 5))\n",
    "    \n",
    "    plt.subplot(121)\n",
    "    plt.imshow(img)\n",
    "    plt.title('Original Image')\n",
    "    plt.axis('off')\n",
    "    \n",
    "    plt.subplot(122)\n",
    "    plt.imshow(colored_pred[...,:3])  # Remove alpha channel\n",
    "    plt.title('Segmentation Prediction')\n",
    "    plt.axis('off')\n",
    "    \n",
    "    class_labels = ['Year', 'Date', 'Longitude', 'Latitude', 'Temperature', 'Background']\n",
    "    patches = [plt.Rectangle((0,0),1,1, fc=class_colors[i][:3]) for i in range(N_CLASSES)]\n",
    "    plt.legend(patches, class_labels, bbox_to_anchor=(1.05, 1))\n",
    "    \n",
    "    plt.tight_layout()\n",
    "    plt.show(bbox_inches='tight')\n",
    "    plt.close()"
   ]
  },
  {
   "cell_type": "code",
   "execution_count": null,
   "metadata": {},
   "outputs": [],
   "source": [
    "# IMG_PATH = '8013620831-0098.jpg-b.jpg'\n",
    "# IMG_PATH = '8013620831-0187.jpg-t.jpg'\n",
    "# IMG_PATH = '8013620831-0077.jpg-t.jpg'\n",
    "IMG_PATH = '8013620831-0061.jpg-t.jpg'"
   ]
  },
  {
   "cell_type": "code",
   "execution_count": null,
   "metadata": {},
   "outputs": [],
   "source": [
    "test_model()"
   ]
  },
  {
   "cell_type": "code",
   "execution_count": null,
   "metadata": {},
   "outputs": [],
   "source": [
    "ground_truth_path = \"data/processed/masks/your_ground_truth_mask.png\" \n",
    "ground_truth = cv2.imread(ground_truth_path, cv2.IMREAD_GRAYSCALE)\n",
    "ground_truth = cv2.resize(ground_truth, TARGET_SIZE)  \n",
    "\n",
    "def compute_dice_score(pred, ground_truth):\n",
    "    intersection = torch.sum(pred * ground_truth)\n",
    "    return 2. * intersection / (torch.sum(pred) + torch.sum(ground_truth))\n",
    "\n",
    "dice_score = compute_dice_score(pred > 0, ground_truth > 0)\n",
    "print(f'Dice Score: {dice_score.item():.4f}')"
   ]
  }
 ],
 "metadata": {
  "kernelspec": {
   "display_name": "torch_3.11",
   "language": "python",
   "name": "python3"
  },
  "language_info": {
   "name": "python",
   "version": "3.11.8"
  }
 },
 "nbformat": 4,
 "nbformat_minor": 2
}
