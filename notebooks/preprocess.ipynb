{
 "cells": [
  {
   "cell_type": "code",
   "execution_count": 14,
   "metadata": {},
   "outputs": [],
   "source": [
    "import os\n",
    "from PIL import Image\n",
    "import cv2\n",
    "import numpy as np\n",
    "import matplotlib.pyplot as plt\n",
    "import math"
   ]
  },
  {
   "cell_type": "markdown",
   "metadata": {},
   "source": [
    "## Playing around\n",
    "Trying to crop the images and find the closest resolution to somthing divisible by 32"
   ]
  },
  {
   "cell_type": "code",
   "execution_count": null,
   "metadata": {},
   "outputs": [],
   "source": [
    "# Load the image\n",
    "image1 = cv2.imread(\"../data/raw/images/8013620831-0038.jpg-b.jpg\")\n",
    "image2 = cv2.imread(\"../data/raw/images/8013620831-0054.jpg-b.jpg\")\n",
    "\n",
    "# Get image resolution\n",
    "print(\"Image 1 resolution: \", image1.shape)\n",
    "print(\"Image 2 resolution: \", image2.shape)"
   ]
  },
  {
   "cell_type": "code",
   "execution_count": null,
   "metadata": {},
   "outputs": [],
   "source": [
    "image3 = \"/Users/sofusbjorn/piratbog/data/Mathiesen-single-pages/8013620831-0029.jpg-b.jpg\"\n",
    "image4 = \"/Users/sofusbjorn/piratbog/data/Mathiesen-single-pages/8013620831-0030.jpg-b.jpg\"\n",
    "image5 = \"/Users/sofusbjorn/piratbog/data/Mathiesen-single-pages/8013620831-0031.jpg-b.jpg\"\n",
    "image6 = \"/Users/sofusbjorn/piratbog/data/Mathiesen-single-pages/8013620831-0032.jpg-b.jpg\"\n",
    "image7 = \"/Users/sofusbjorn/piratbog/data/Mathiesen-single-pages/8013620831-0033.jpg-b.jpg\"\n",
    "image8 = \"/Users/sofusbjorn/piratbog/data/Mathiesen-single-pages/8013620831-0034.jpg-b.jpg\"\n",
    "image9 = \"/Users/sofusbjorn/piratbog/data/Mathiesen-single-pages/8013620831-0035.jpg-b.jpg\"\n",
    "image10 = \"/Users/sofusbjorn/piratbog/data/Mathiesen-single-pages/8013620831-0036.jpg-b.jpg\"\n",
    "image11 = \"/Users/sofusbjorn/piratbog/data/Mathiesen-single-pages/8013620831-0037.jpg-b.jpg\"\n",
    "\n",
    "find_common_resolution_divisible_by_32([image3, image4, image5, image6, image7, image8, image9, image10, image11, image1, image2])"
   ]
  },
  {
   "cell_type": "code",
   "execution_count": null,
   "metadata": {},
   "outputs": [],
   "source": [
    "bottom = find_common_resolution_for_b_images(\"/Users/sofusbjorn/piratbog/data/Mathiesen-single-pages/\")\n",
    "top = find_common_resolution_for_t_images(\"/Users/sofusbjorn/piratbog/data/Mathiesen-single-pages/\")\n",
    "\n",
    "print(f\"Common resolution divisible by 32 for bottom images: {bottom}\")\n",
    "print(f\"Common resolution divisible by 32 for top images: {top}\")"
   ]
  },
  {
   "cell_type": "code",
   "execution_count": null,
   "metadata": {},
   "outputs": [],
   "source": [
    "def find_common_resolution_divisible_by_32(image_paths):\n",
    "    \"\"\"\n",
    "    Finds the closest common resolution divisible by 32 for a list of images,\n",
    "    ensuring the resolution is less than or equal to all image dimensions.\n",
    "    \"\"\"\n",
    "    # Store the dimensions of all images\n",
    "    dimensions = []\n",
    "    for image_path in image_paths:\n",
    "        image = cv2.imread(image_path)\n",
    "        height, width, _ = image.shape\n",
    "        dimensions.append((width, height))\n",
    "    \n",
    "    # Find the smallest width and height across all images\n",
    "    min_width = min(dim[0] for dim in dimensions)\n",
    "    min_height = min(dim[1] for dim in dimensions)\n",
    "    \n",
    "    # Adjust dimensions to be divisible by 32 while ensuring they remain <= smallest image dimensions\n",
    "    common_width = ((min_width // 32) * 32)\n",
    "    common_height = ((min_height // 32) * 32)\n",
    "    \n",
    "    # Ensure the common resolution is <= dimensions of all images\n",
    "    for width, height in dimensions:\n",
    "        if common_width > width or common_height > height:\n",
    "            common_width = ((width // 32) * 32)\n",
    "            common_height = ((height // 32) * 32)\n",
    "\n",
    "    return common_width, common_height\n",
    "\n",
    "\n",
    "image1 = \"data/images/8013620831-0038.jpg-b.jpg\"\n",
    "image2 = \"data/images/8013620831-0054.jpg-b.jpg\"\n",
    "\n",
    "image_paths = [image1, image2]  # Replace with your image paths\n",
    "common_resolution = find_common_resolution_divisible_by_32(image_paths)\n",
    "print(f\"Common resolution divisible by 32 for all images: {common_resolution}\")\n"
   ]
  },
  {
   "cell_type": "code",
   "execution_count": null,
   "metadata": {},
   "outputs": [],
   "source": [
    "def find_common_resolution_divisible_by_32_from_folder(folder_path, suffix):\n",
    "    \"\"\"\n",
    "    Finds the closest common resolution divisible by 32 for all images in a folder\n",
    "    that end with the specified suffix.\n",
    "    \"\"\"\n",
    "    # Ensure suffix starts with a dash\n",
    "    if not suffix.startswith('-'):\n",
    "        raise ValueError(\"Suffix should start with '-' (e.g., '-b' or '-t').\")\n",
    "    \n",
    "    # List all files in the folder and filter for image files with the specified suffix\n",
    "    image_extensions = (\".jpg\", \".jpeg\", \".png\", \".bmp\", \".tiff\")  # Add more as needed\n",
    "    image_paths = [os.path.join(folder_path, file) for file in os.listdir(folder_path)\n",
    "                   if file.lower().endswith(image_extensions) and file.lower().endswith(f\"{suffix}.jpg\")]\n",
    "    \n",
    "    if not image_paths:\n",
    "        raise ValueError(f\"No images found in the folder with suffix '{suffix}'.\")\n",
    "    \n",
    "    # Store the dimensions of all images\n",
    "    dimensions = []\n",
    "    for image_path in image_paths:\n",
    "        image = cv2.imread(image_path)\n",
    "        if image is None:\n",
    "            print(f\"Warning: Could not read {image_path}. Skipping.\")\n",
    "            continue\n",
    "        height, width, _ = image.shape\n",
    "        dimensions.append((width, height))\n",
    "    \n",
    "    if not dimensions:\n",
    "        raise ValueError(f\"No valid images found in the folder with suffix '{suffix}'.\")\n",
    "    \n",
    "    # Find the smallest width and height across all images\n",
    "    min_width = min(dim[0] for dim in dimensions)\n",
    "    min_height = min(dim[1] for dim in dimensions)\n",
    "    \n",
    "    # Adjust dimensions to be divisible by 32 while ensuring they remain <= smallest image dimensions\n",
    "    common_width = ((min_width // 32) * 32)\n",
    "    common_height = ((min_height // 32) * 32)\n",
    "    \n",
    "    # Ensure the common resolution is <= dimensions of all images\n",
    "    for width, height in dimensions:\n",
    "        if common_width > width or common_height > height:\n",
    "            common_width = ((width // 32) * 32)\n",
    "            common_height = ((height // 32) * 32)\n",
    "\n",
    "    return common_width, common_height\n",
    "\n",
    "# Functions for specific suffixes\n",
    "def find_common_resolution_for_b_images(folder_path):\n",
    "    return find_common_resolution_divisible_by_32_from_folder(folder_path, \"-b\")\n",
    "\n",
    "def find_common_resolution_for_t_images(folder_path):\n",
    "    return find_common_resolution_divisible_by_32_from_folder(folder_path, \"-t\")"
   ]
  },
  {
   "cell_type": "markdown",
   "metadata": {},
   "source": [
    "Checking multiple bottom images!"
   ]
  },
  {
   "cell_type": "markdown",
   "metadata": {},
   "source": [
    "# Processing data"
   ]
  },
  {
   "cell_type": "code",
   "execution_count": 2,
   "metadata": {},
   "outputs": [],
   "source": [
    "def common_resolution_divisible_by_32_from_folder(folder_path):\n",
    "    \"\"\"\n",
    "    Finds the closest common resolution divisible by 32 for all images in a folder.\n",
    "    \"\"\"\n",
    "    # List all files in the folder and filter for image files\n",
    "    image_extensions = (\".jpg\", \".jpeg\", \".png\", \".bmp\", \".tiff\")  # Add more as needed\n",
    "    image_paths = [os.path.join(folder_path, file) for file in os.listdir(folder_path)\n",
    "                   if file.lower().endswith(image_extensions)]\n",
    "    \n",
    "    if not image_paths:\n",
    "        raise ValueError(\"No images found in the specified folder.\")\n",
    "    \n",
    "    # Store the dimensions of all images\n",
    "    dimensions = []\n",
    "    for image_path in image_paths:\n",
    "        image = cv2.imread(image_path)\n",
    "        if image is None:\n",
    "            print(f\"Warning: Could not read {image_path}. Skipping.\")\n",
    "            continue\n",
    "        height, width, _ = image.shape\n",
    "        dimensions.append((width, height))\n",
    "    \n",
    "    if not dimensions:\n",
    "        raise ValueError(\"No valid images found in the specified folder.\")\n",
    "    \n",
    "    # Find the smallest width and height across all images\n",
    "    min_width = min(dim[0] for dim in dimensions)\n",
    "    min_height = min(dim[1] for dim in dimensions)\n",
    "    \n",
    "    # Adjust dimensions to be divisible by 32 while ensuring they remain <= smallest image dimensions\n",
    "    common_width = ((min_width // 32) * 32)\n",
    "    common_height = ((min_height // 32) * 32)\n",
    "    \n",
    "    # Ensure the common resolution is <= dimensions of all images\n",
    "    for width, height in dimensions:\n",
    "        if common_width > width or common_height > height:\n",
    "            common_width = ((width // 32) * 32)\n",
    "            common_height = ((height // 32) * 32)\n",
    "\n",
    "    return common_width, common_height"
   ]
  },
  {
   "cell_type": "markdown",
   "metadata": {},
   "source": [
    "Lets check all the images and find the closest resolution to somthing divisible by 32"
   ]
  },
  {
   "cell_type": "markdown",
   "metadata": {},
   "source": [
    "one for bottom and top images"
   ]
  },
  {
   "cell_type": "code",
   "execution_count": 3,
   "metadata": {},
   "outputs": [],
   "source": [
    "def crop_image_t(image_path, output_path, target_width, target_height):\n",
    "    with Image.open(image_path) as img:\n",
    "        width, height = img.size\n",
    "\n",
    "        # Calculate crop dimensions\n",
    "        left = (width - target_width) // 2\n",
    "        right = left + target_width\n",
    "        top = height - target_height\n",
    "        bottom = height\n",
    "\n",
    "        # Ensure dimensions are valid\n",
    "        if left < 0 or top < 0 or right > width or bottom > height:\n",
    "            print(f\"Image {image_path} is too small to crop to the specified resolution.\")\n",
    "            return\n",
    "\n",
    "        # Crop and save the image\n",
    "        cropped_img = img.crop((left, top, right, bottom))\n",
    "        cropped_img.save(output_path)\n",
    "        #print(f\"Cropped {image_path} to {output_path}\")"
   ]
  },
  {
   "cell_type": "code",
   "execution_count": 4,
   "metadata": {},
   "outputs": [],
   "source": [
    "def crop_image_b(image_path, output_path, target_width, target_height):\n",
    "    with Image.open(image_path) as img:\n",
    "        width, height = img.size\n",
    "\n",
    "        # Calculate crop dimensions\n",
    "        left = (width - target_width) // 2\n",
    "        right = left + target_width\n",
    "        top = 0  # Start from the top\n",
    "        bottom = target_height  # Keep only up to the target height\n",
    "\n",
    "        # Ensure dimensions are valid\n",
    "        if left < 0 or right > width or bottom > height:\n",
    "            print(f\"Image {image_path} is too small to crop to the specified resolution.\")\n",
    "            return\n",
    "\n",
    "        # Crop and save the image\n",
    "        cropped_img = img.crop((left, top, right, bottom))\n",
    "        cropped_img.save(output_path)\n",
    "        #print(f\"Cropped {image_path} to {output_path}\")"
   ]
  },
  {
   "cell_type": "code",
   "execution_count": null,
   "metadata": {},
   "outputs": [],
   "source": [
    "input_folder = \"../data/raw/Mathiesen-single-pages\"\n",
    "\n",
    "target_width, target_height = common_resolution_divisible_by_32_from_folder(input_folder)\n",
    "print(target_width, target_height)"
   ]
  },
  {
   "cell_type": "markdown",
   "metadata": {},
   "source": [
    "3200 2496"
   ]
  },
  {
   "cell_type": "code",
   "execution_count": 8,
   "metadata": {},
   "outputs": [],
   "source": [
    "def crop(input_folder, output_t, output_b):\n",
    "    os.makedirs(output_t, exist_ok=True)\n",
    "    os.makedirs(output_b, exist_ok=True)\n",
    "    for filename in os.listdir(input_folder):\n",
    "        if \"-t\" in filename:\n",
    "            input_path = os.path.join(input_folder, filename)\n",
    "            output_path = os.path.join(output_t, filename)\n",
    "            crop_image_t(input_path, output_path, target_width, target_height)\n",
    "        elif \"-b\" in filename:\n",
    "            input_path = os.path.join(input_folder, filename)\n",
    "            output_path = os.path.join(output_b, filename)\n",
    "            crop_image_b(input_path, output_path, target_width, target_height)\n",
    "    print(\"Cropping completed.\")\n"
   ]
  },
  {
   "cell_type": "code",
   "execution_count": null,
   "metadata": {},
   "outputs": [],
   "source": [
    "masks_in = \"../data/raw/masks\"\n",
    "masks_out = \"../data/processed/masks\"\n",
    "img_in = \"../data/raw/images\"\n",
    "img_out = \"../data/processed/images\"\n",
    "\n",
    "crop(masks_in, masks_out, masks_out)\n",
    "crop(img_in, img_out, img_out)"
   ]
  },
  {
   "cell_type": "markdown",
   "metadata": {},
   "source": [
    "# Selecting perfectly cropped data"
   ]
  },
  {
   "cell_type": "markdown",
   "metadata": {},
   "source": [
    "We need to sort our images in two piles. One for if there is black any black pixels in the top row, and one for if there is any black pixels in the bottom row.\n",
    "This should help us to find the images where the crop has cropped data."
   ]
  },
  {
   "cell_type": "code",
   "execution_count": 2,
   "metadata": {},
   "outputs": [],
   "source": [
    "import os\n",
    "from PIL import Image\n",
    "import cv2\n",
    "import numpy as np\n",
    "import matplotlib.pyplot as plt\n",
    "import math"
   ]
  },
  {
   "cell_type": "code",
   "execution_count": 3,
   "metadata": {},
   "outputs": [],
   "source": [
    "target_size = (3200 // 2, 2496 // 2)"
   ]
  },
  {
   "cell_type": "code",
   "execution_count": 4,
   "metadata": {},
   "outputs": [],
   "source": [
    "img_faulty = cv2.imread(\"../data/processed/Mathiesen-single-pages/top/8013620831-0035.jpg-t.jpg\")\n",
    "img_allowed = cv2.imread(\"../data/processed/Mathiesen-single-pages/top/8013620831-0816.jpg-t.jpg\")"
   ]
  },
  {
   "cell_type": "code",
   "execution_count": null,
   "metadata": {},
   "outputs": [],
   "source": [
    "plt.imshow(img_faulty)\n",
    "plt.show()\n",
    "plt.imshow(img_allowed)\n",
    "plt.show()"
   ]
  },
  {
   "cell_type": "markdown",
   "metadata": {},
   "source": [
    "Adding a constant rectangle"
   ]
  },
  {
   "cell_type": "code",
   "execution_count": 114,
   "metadata": {},
   "outputs": [],
   "source": [
    "def add_rectangle(img):\n",
    "    width, height = img.shape[1], img.shape[0]\n",
    "    color = (255,255,255)   \n",
    "    start_point_left = (0, 0)\n",
    "    end_point_left = (math.floor(width*0.08), height)\n",
    "    img = cv2.rectangle(img, start_point_left, end_point_left, color, -1)\n",
    "\n",
    "    return img"
   ]
  },
  {
   "cell_type": "code",
   "execution_count": null,
   "metadata": {},
   "outputs": [],
   "source": [
    "def preprocess(img):\n",
    "    if len(img.shape) == 3:\n",
    "        img = cv2.cvtColor(img, cv2.COLOR_BGR2GRAY)\n",
    "\n",
    "    #will be added\n",
    "    _, img = cv2.threshold(img, 25, 255, cv2.THRESH_BINARY)\n",
    "\n",
    "    erode_kernel = np.ones((3, 3), np.uint8)\n",
    "    img = cv2.erode(img, erode_kernel, iterations=5)\n",
    "\n",
    "    dilate_kernel = np.ones((3, 3), np.uint8)\n",
    "    img = cv2.dilate(img, dilate_kernel, iterations=3)\n",
    "\n",
    "    img = add_rectangle(img)\n",
    "\n",
    "    img = img / 255.0\n",
    "    img = cv2.resize(img, target_size, interpolation=cv2.INTER_AREA)\n",
    "\n",
    "    return img\n",
    "\n",
    "img_faulty_preprocessed = preprocess(img_faulty)\n",
    "img_allowed_preprocessed = preprocess(img_allowed)\n",
    "\n",
    "plt.imshow(img_faulty_preprocessed, cmap='gray')\n",
    "plt.show()\n",
    "\n",
    "plt.imshow(img_allowed_preprocessed, cmap='gray')\n",
    "plt.show()"
   ]
  },
  {
   "cell_type": "markdown",
   "metadata": {},
   "source": [
    "Looking for the left most and rightmost (relevant) column-lines, and removing everything but that"
   ]
  },
  {
   "cell_type": "code",
   "execution_count": 116,
   "metadata": {},
   "outputs": [],
   "source": [
    "def find_vertical_line_bounds(img):\n",
    "    \"\"\"Find the leftmost and rightmost vertical lines in left half of image\"\"\"\n",
    "    vertical = np.copy(img)\n",
    "    \n",
    "    # nothing relevant on right-half of image.\n",
    "    half = img.shape[1] // 2\n",
    "    vertical = vertical[:, :half]\n",
    "    \n",
    "    vertical_kernel = cv2.getStructuringElement(cv2.MORPH_RECT, (1, 50))\n",
    "    vertical = cv2.morphologyEx(vertical, cv2.MORPH_CLOSE, vertical_kernel)\n",
    "    \n",
    "    col_profile = np.sum(vertical == 0, axis=0)  # Sum black pixels\n",
    "    \n",
    "    threshold = np.max(col_profile) * 0.15 \n",
    "    line_cols = np.where(col_profile > threshold)[0]\n",
    "    \n",
    "    if len(line_cols) > 1:  # Make sure we have at least 2 lines\n",
    "        left_bound = max(0, line_cols[0] - 10)\n",
    "\n",
    "        right_bound = min(half, line_cols[-1] -5)\n",
    "        return left_bound, right_bound\n",
    "    \n",
    "    return 0, img.shape[1]"
   ]
  },
  {
   "cell_type": "code",
   "execution_count": null,
   "metadata": {},
   "outputs": [],
   "source": [
    "def preprocess(img, BS=13, C=12):\n",
    "    \"\"\"Modified preprocessing pipeline with vertical line removal\"\"\"\n",
    "\n",
    "    img = cv2.cvtColor(img, cv2.COLOR_BGR2GRAY)\n",
    "    \n",
    "    img = cv2.GaussianBlur(img, (3, 3), 0)\n",
    "    img = cv2.adaptiveThreshold(\n",
    "        img, 255, cv2.ADAPTIVE_THRESH_GAUSSIAN_C,\n",
    "        cv2.THRESH_BINARY, blockSize=BS, C=C\n",
    "    )\n",
    "    img = add_rectangle(img)\n",
    "    \n",
    "    # Clean noise\n",
    "    kernel = np.ones((3,3), np.uint8)\n",
    "    img = cv2.morphologyEx(img, cv2.MORPH_OPEN, kernel, iterations=2)\n",
    "    \n",
    "    left_bound, right_bound = find_vertical_line_bounds(img)\n",
    "    \n",
    "    # Apply bounds\n",
    "    img[:, :left_bound] = 255\n",
    "    img[:, right_bound:] = 255\n",
    "    \n",
    "    # Normalize and resize\n",
    "    img = img.astype(float) / 255.0\n",
    "    img = cv2.resize(img, target_size, interpolation=cv2.INTER_AREA)\n",
    "    \n",
    "    return img\n",
    "\n",
    "img_sloppy = cv2.imread(\"../data/processed/train/images/8013620831-0048.jpg-b.jpg\")\n",
    "img_sloppy_preprocessed = preprocess(img_sloppy)\n",
    "plt.imshow(img_sloppy)\n",
    "plt.show()\n",
    "plt.imshow(img_sloppy_preprocessed, cmap='gray')\n",
    "plt.show()\n",
    "\n"
   ]
  },
  {
   "cell_type": "code",
   "execution_count": null,
   "metadata": {},
   "outputs": [],
   "source": [
    "img_faulty_preprocessed = preprocess(img_faulty, 7, 4)\n",
    "img_allowed_preprocessed = preprocess(img_allowed, 7, 3)\n",
    "img_white = cv2.imread(\"../data/processed/Mathiesen-single-pages/top/8013620831-0077.jpg-t.jpg\")\n",
    "img_white_preprocessed = preprocess(img_white, 13, 12)\n",
    "\n",
    "plt.imshow(img_faulty_preprocessed, cmap='gray')\n",
    "plt.show()\n",
    "\n",
    "plt.imshow(img_allowed_preprocessed, cmap='gray')\n",
    "plt.show()\n",
    "\n",
    "plt.imshow(img_white_preprocessed, cmap='gray')\n",
    "plt.show()"
   ]
  }
 ],
 "metadata": {
  "kernelspec": {
   "display_name": "torchenv_3.11",
   "language": "python",
   "name": "python3"
  },
  "language_info": {
   "codemirror_mode": {
    "name": "ipython",
    "version": 3
   },
   "file_extension": ".py",
   "mimetype": "text/x-python",
   "name": "python",
   "nbconvert_exporter": "python",
   "pygments_lexer": "ipython3",
   "version": "3.11.8"
  }
 },
 "nbformat": 4,
 "nbformat_minor": 2
}
